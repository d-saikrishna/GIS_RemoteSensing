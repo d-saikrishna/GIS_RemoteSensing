{
 "cells": [
  {
   "cell_type": "markdown",
   "id": "bda338b6",
   "metadata": {},
   "source": [
    "https://cds.climate.copernicus.eu/#!/home\n",
    "\n",
    "https://confluence.ecmwf.int/display/CKB/The+family+of+ERA5+datasets\n",
    "\n",
    "https://confluence.ecmwf.int/display/CKB/How+to+install+and+use+CDS+API+on+Windows\n",
    "\n",
    "https://ads.atmosphere.copernicus.eu/cdsapp#!/home"
   ]
  },
  {
   "cell_type": "code",
   "execution_count": 3,
   "id": "a55ca80e",
   "metadata": {},
   "outputs": [],
   "source": [
    "# API - CDS (Climate Data Store)\n",
    "#pip install cdsapi"
   ]
  },
  {
   "cell_type": "code",
   "execution_count": null,
   "id": "0eaa0fee",
   "metadata": {},
   "outputs": [],
   "source": [
    "url: {api-url}\n",
    "key: {131575}:{ec2972a6-65be-48c6-9ccc-0b7fdc9a43a4}"
   ]
  },
  {
   "cell_type": "code",
   "execution_count": 4,
   "id": "4f126a50",
   "metadata": {},
   "outputs": [],
   "source": [
    "import cdsapi"
   ]
  },
  {
   "cell_type": "code",
   "execution_count": null,
   "id": "1d5ce3eb",
   "metadata": {},
   "outputs": [],
   "source": []
  }
 ],
 "metadata": {
  "kernelspec": {
   "display_name": "Python 3 (ipykernel)",
   "language": "python",
   "name": "python3"
  },
  "language_info": {
   "codemirror_mode": {
    "name": "ipython",
    "version": 3
   },
   "file_extension": ".py",
   "mimetype": "text/x-python",
   "name": "python",
   "nbconvert_exporter": "python",
   "pygments_lexer": "ipython3",
   "version": "3.9.7"
  }
 },
 "nbformat": 4,
 "nbformat_minor": 5
}
