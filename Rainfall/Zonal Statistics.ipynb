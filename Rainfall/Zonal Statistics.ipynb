{
 "cells": [
  {
   "cell_type": "code",
   "execution_count": 236,
   "metadata": {},
   "outputs": [],
   "source": [
    "import geopandas as gpd\n",
    "import rasterio as rio\n",
    "import rasterstats\n",
    "\n",
    "from netCDF4 import Dataset\n",
    "\n",
    "import pandas as pd\n",
    "import numpy as np \n",
    "\n",
    "import matplotlib.pyplot as plt\n",
    "import matplotlib.colors as colors\n",
    "import seaborn as sns\n",
    "\n",
    "from mpl_toolkits.basemap import Basemap"
   ]
  },
  {
   "cell_type": "code",
   "execution_count": 66,
   "metadata": {},
   "outputs": [],
   "source": [
    "#Load the Districts Shapefile\n",
    "districts = gpd.read_file('Census_2011/2011_Dist.shp')"
   ]
  },
  {
   "cell_type": "code",
   "execution_count": 156,
   "metadata": {},
   "outputs": [],
   "source": [
    "file_path = \"RainfallData_25/2019.nc\"\n",
    "fh = Dataset(file_path, mode='r')\n",
    "#Longitudes\n",
    "lons = fh.variables['longitude'][:]\n",
    "#Latitudes\n",
    "lats = fh.variables['latitude'][:]\n",
    "#Time Series\n",
    "times = fh.variables['time'][:]\n",
    "#Total Precipitation Data \n",
    "tps = fh.variables['tp'][:]\n",
    "\n",
    "\n",
    "affine = rio.open(file_path).transform"
   ]
  },
  {
   "cell_type": "code",
   "execution_count": 157,
   "metadata": {},
   "outputs": [
    {
     "data": {
      "text/plain": [
       "masked_array(\n",
       "  data=[[0.00020628, 0.00020628, 0.00020628, ..., 0.00020628, 0.00020628,\n",
       "         0.00020628],\n",
       "        [0.00027153, 0.00027153, 0.00027153, ..., 0.00027153, 0.00027153,\n",
       "         0.00027153],\n",
       "        [0.00027153, 0.00027153, 0.00027153, ..., 0.00027153, 0.00027153,\n",
       "         0.00027153],\n",
       "        ...,\n",
       "        [0.00017155, 0.00017155, 0.00017155, ..., 0.00017155, 0.00017155,\n",
       "         0.00017155],\n",
       "        [0.00017155, 0.00017155, 0.00017155, ..., 0.00017155, 0.00017155,\n",
       "         0.00017155],\n",
       "        [0.00013577, 0.00013577, 0.00013577, ..., 0.00013577, 0.00013577,\n",
       "         0.00013577]],\n",
       "  mask=False,\n",
       "  fill_value=1e+20)"
      ]
     },
     "execution_count": 157,
     "metadata": {},
     "output_type": "execute_result"
    }
   ],
   "source": [
    "#Total Precipitation for January 2019\n",
    "tp_jan = tps[0,:,:]\n",
    "tp_jan"
   ]
  },
  {
   "cell_type": "markdown",
   "metadata": {},
   "source": [
    "All the Total Precipitation Arrays have mask = False. \n",
    "\n",
    "But there can still be anomalies in the data due to bad sensor. The documentation of ERA-interim read that missing values were filled with negative values. Let's check that. "
   ]
  },
  {
   "cell_type": "code",
   "execution_count": 158,
   "metadata": {},
   "outputs": [
    {
     "data": {
      "text/plain": [
       "-4.295636069073794e-11"
      ]
     },
     "execution_count": 158,
     "metadata": {},
     "output_type": "execute_result"
    }
   ],
   "source": [
    "tp_jan.min()"
   ]
  },
  {
   "cell_type": "code",
   "execution_count": 159,
   "metadata": {},
   "outputs": [
    {
     "data": {
      "text/plain": [
       "15195"
      ]
     },
     "execution_count": 159,
     "metadata": {},
     "output_type": "execute_result"
    }
   ],
   "source": [
    "np.count_nonzero(tp_jan == tp_jan.min())"
   ]
  },
  {
   "cell_type": "code",
   "execution_count": 160,
   "metadata": {},
   "outputs": [
    {
     "data": {
      "text/plain": [
       "1038240"
      ]
     },
     "execution_count": 160,
     "metadata": {},
     "output_type": "execute_result"
    }
   ],
   "source": [
    "tp_jan.shape[0]*tp_jan.shape[1]"
   ]
  },
  {
   "cell_type": "code",
   "execution_count": 162,
   "metadata": {},
   "outputs": [
    {
     "data": {
      "text/plain": [
       "1.463534442903375"
      ]
     },
     "execution_count": 162,
     "metadata": {},
     "output_type": "execute_result"
    }
   ],
   "source": [
    "100*15195/1038240"
   ]
  },
  {
   "cell_type": "markdown",
   "metadata": {},
   "source": [
    "Around 1.5% of the pixels have an anamolous value. But when we have to find zonal statistics, these anamolous values will hurt the zonal stat. Thus, we should impute these pixels. \n",
    "<br>\n",
    "One approach is to impute these pixels with mean of surrounding pixel values"
   ]
  },
  {
   "cell_type": "markdown",
   "metadata": {},
   "source": [
    "## Imputing Missing pixel values - Explainer. "
   ]
  },
  {
   "cell_type": "code",
   "execution_count": 163,
   "metadata": {},
   "outputs": [],
   "source": [
    "from astropy.convolution import convolve"
   ]
  },
  {
   "cell_type": "code",
   "execution_count": 164,
   "metadata": {},
   "outputs": [
    {
     "data": {
      "text/plain": [
       "array([[ 1.,  5.,  2.,  9.,  3.,  2.],\n",
       "       [ 6., nan,  7.,  3.,  9.,  3.],\n",
       "       [ 7.,  2.,  3.,  9.,  8.,  2.],\n",
       "       [ 2.,  1.,  4., nan,  5.,  2.],\n",
       "       [ 5.,  2.,  8.,  9.,  2.,  4.]])"
      ]
     },
     "execution_count": 164,
     "metadata": {},
     "output_type": "execute_result"
    }
   ],
   "source": [
    "Y =[[1,5,2,9,3,2],\n",
    "    [6,np.nan,7,3,9,3],\n",
    "    [7,2,3,9,8,2],\n",
    "    [2,1,4,np.nan,5,2],\n",
    "    [5,2,8,9,2,4]]\n",
    "Y = np.array(Y)\n",
    "np.squeeze(Y)"
   ]
  },
  {
   "cell_type": "code",
   "execution_count": 165,
   "metadata": {},
   "outputs": [],
   "source": [
    "kernel = [[1,1,1],\n",
    "          [1,0,1],\n",
    "          [1,1,1]]"
   ]
  },
  {
   "cell_type": "code",
   "execution_count": 166,
   "metadata": {},
   "outputs": [],
   "source": [
    "#Mask Null Values\n",
    "mask = np.isnan(Y)"
   ]
  },
  {
   "cell_type": "code",
   "execution_count": 167,
   "metadata": {},
   "outputs": [
    {
     "data": {
      "text/plain": [
       "array([[1.57142857, 2.28571429, 3.42857143, 3.        , 3.25      ,\n",
       "        1.875     ],\n",
       "       [2.14285714, 4.125     , 4.71428571, 6.25      , 4.875     ,\n",
       "        3.        ],\n",
       "       [1.57142857, 4.28571429, 4.33333333, 5.57142857, 4.71428571,\n",
       "        3.375     ],\n",
       "       [2.125     , 4.125     , 4.85714286, 6.        , 5.14285714,\n",
       "        2.625     ],\n",
       "       [0.625     , 2.5       , 2.28571429, 2.71428571, 2.85714286,\n",
       "        1.125     ]])"
      ]
     },
     "execution_count": 167,
     "metadata": {},
     "output_type": "execute_result"
    }
   ],
   "source": [
    "#Mean of Neigbouring elements: Won't work effectively for edges. \n",
    "##So choose satellite image that has a little bigger boundary than the focus area.\n",
    "means = convolve(Y,kernel)\n",
    "np.squeeze(means)"
   ]
  },
  {
   "cell_type": "code",
   "execution_count": 168,
   "metadata": {},
   "outputs": [
    {
     "data": {
      "text/plain": [
       "array([[ True,  True,  True,  True,  True,  True],\n",
       "       [ True, False,  True,  True,  True,  True],\n",
       "       [ True,  True,  True,  True,  True,  True],\n",
       "       [ True,  True,  True, False,  True,  True],\n",
       "       [ True,  True,  True,  True,  True,  True]])"
      ]
     },
     "execution_count": 168,
     "metadata": {},
     "output_type": "execute_result"
    }
   ],
   "source": [
    "mask_inv = np.bitwise_not(mask)\n",
    "mask_inv"
   ]
  },
  {
   "cell_type": "code",
   "execution_count": 169,
   "metadata": {},
   "outputs": [
    {
     "data": {
      "text/plain": [
       "array([[0.   , 0.   , 0.   , 0.   , 0.   , 0.   ],\n",
       "       [0.   , 4.125, 0.   , 0.   , 0.   , 0.   ],\n",
       "       [0.   , 0.   , 0.   , 0.   , 0.   , 0.   ],\n",
       "       [0.   , 0.   , 0.   , 6.   , 0.   , 0.   ],\n",
       "       [0.   , 0.   , 0.   , 0.   , 0.   , 0.   ]])"
      ]
     },
     "execution_count": 169,
     "metadata": {},
     "output_type": "execute_result"
    }
   ],
   "source": [
    "means[mask_inv] = np.zeros((mask_inv.sum()))\n",
    "means"
   ]
  },
  {
   "cell_type": "code",
   "execution_count": 170,
   "metadata": {},
   "outputs": [
    {
     "data": {
      "text/plain": [
       "array([[1., 5., 2., 9., 3., 2.],\n",
       "       [6., 0., 7., 3., 9., 3.],\n",
       "       [7., 2., 3., 9., 8., 2.],\n",
       "       [2., 1., 4., 0., 5., 2.],\n",
       "       [5., 2., 8., 9., 2., 4.]])"
      ]
     },
     "execution_count": 170,
     "metadata": {},
     "output_type": "execute_result"
    }
   ],
   "source": [
    "Y[mask] = np.zeros((np.array(mask).sum()))\n",
    "Y"
   ]
  },
  {
   "cell_type": "code",
   "execution_count": 171,
   "metadata": {},
   "outputs": [
    {
     "data": {
      "text/plain": [
       "array([[1.   , 5.   , 2.   , 9.   , 3.   , 2.   ],\n",
       "       [6.   , 4.125, 7.   , 3.   , 9.   , 3.   ],\n",
       "       [7.   , 2.   , 3.   , 9.   , 8.   , 2.   ],\n",
       "       [2.   , 1.   , 4.   , 6.   , 5.   , 2.   ],\n",
       "       [5.   , 2.   , 8.   , 9.   , 2.   , 4.   ]])"
      ]
     },
     "execution_count": 171,
     "metadata": {},
     "output_type": "execute_result"
    }
   ],
   "source": [
    "Y_imputed = Y +means\n",
    "Y_imputed"
   ]
  },
  {
   "cell_type": "code",
   "execution_count": 172,
   "metadata": {},
   "outputs": [],
   "source": [
    "#Let's write a function for this:\n",
    "def impute_anomalies(Y,smoothing_iter = 1):\n",
    "    Y = np.array(Y)\n",
    "    #Replace anomalous values with np.nan\n",
    "    Y = np.where(Y<0, np.nan, Y)\n",
    "    \n",
    "    #Bigger kernel only to deal with successive nulls\n",
    "    kernel = [[0.0001,0.0001,0.0001,0.0001,0.0001],\n",
    "              [0.0001,1,1,1,0.0001],\n",
    "              [0.0001,1,0,1,0.0001],\n",
    "              [0.0001,1,1,1,0.0001],\n",
    "              [0.0001,0.0001,0.0001,0.0001,0.0001]]\n",
    "    \n",
    "    for i in range(smoothing_iter):\n",
    "        #Mask Null Values\n",
    "        mask = np.isnan(Y)\n",
    "        \n",
    "        means = convolve(Y,kernel)\n",
    "        \n",
    "        mask_inv = np.bitwise_not(mask)\n",
    "        \n",
    "        means[mask_inv] = np.zeros((mask_inv.sum()))\n",
    "        \n",
    "        Y[mask] = np.zeros((np.array(mask).sum()))\n",
    "        Y_imputed = Y +means\n",
    "        Y = Y_imputed\n",
    "    \n",
    "    return Y_imputed"
   ]
  },
  {
   "cell_type": "code",
   "execution_count": 173,
   "metadata": {},
   "outputs": [
    {
     "name": "stdout",
     "output_type": "stream",
     "text": [
      "After iteration 1\n",
      "Number of Missing Values: 10693\n"
     ]
    },
    {
     "name": "stderr",
     "output_type": "stream",
     "text": [
      "C:\\Users\\Admin\\Anaconda3\\lib\\site-packages\\ipykernel_launcher.py:5: RuntimeWarning: invalid value encountered in less\n",
      "  \"\"\"\n"
     ]
    },
    {
     "name": "stdout",
     "output_type": "stream",
     "text": [
      "After iteration 2\n",
      "Number of Missing Values: 5607\n",
      "After iteration 3\n",
      "Number of Missing Values: 2134\n",
      "After iteration 4\n",
      "Number of Missing Values: 444\n",
      "After iteration 5\n",
      "Number of Missing Values: 0\n"
     ]
    }
   ],
   "source": [
    "# Let's check the function with tp_jan\n",
    "for i in range(5):\n",
    "    tp_jan = impute_anomalies(tp_jan,smoothing_iter=i+1)\n",
    "    print('After iteration', i+1)\n",
    "    print('Number of Missing Values:',np.isnan(tp_jan).sum())\n",
    "    "
   ]
  },
  {
   "cell_type": "markdown",
   "metadata": {},
   "source": [
    "Hence 5 iterations are needed to fill all anomalous pixel values in the data. "
   ]
  },
  {
   "cell_type": "markdown",
   "metadata": {},
   "source": [
    "# Calculate Zonal Statistics:\n",
    "\n",
    "We will calculate mean rainfall in each district of India. \n",
    "<br>\n",
    "We will also count number of pixels that fall under each district. \n",
    "<br>\n",
    "\n",
    "Rasterstats will help us do it. "
   ]
  },
  {
   "cell_type": "code",
   "execution_count": 179,
   "metadata": {},
   "outputs": [
    {
     "name": "stdout",
     "output_type": "stream",
     "text": [
      "0\n",
      "1\n",
      "2\n",
      "3\n",
      "4\n",
      "5\n",
      "6\n",
      "7\n"
     ]
    }
   ],
   "source": [
    "df = pd.DataFrame(columns=['Census Code','State Code','District Code',\"State\",\"District\",\"Month\",\"Year\",\"Mean Rainfall\",\"Count\"])\n",
    "for t in range(8):\n",
    "    print(t)\n",
    "    precipitation = tps[t,:,:]\n",
    "    precipitation = impute_anomalies(precipitation,smoothing_iter=5)\n",
    "    \n",
    "    average_tp = rasterstats.zonal_stats(districts,\n",
    "                                             precipitation,\n",
    "                                             affine=affine,\n",
    "                                             stats = ['mean','count'],\n",
    "                                             geojson_out=True)\n",
    "    for j in range(len(average_tp)):\n",
    "                df = df.append({'Census Code':average_tp[j]['properties']['censuscode'],\n",
    "                            'State Code':average_tp[j]['properties']['ST_CEN_CD'],\n",
    "                            'District Code':average_tp[j]['properties']['DT_CEN_CD'],\n",
    "                            'District':average_tp[j]['properties']['DISTRICT'],\n",
    "                            'State':average_tp[j]['properties']['ST_NM'],\n",
    "                            'Month':t+1,\n",
    "                            'Year':2019,\n",
    "                            'Mean Rainfall':average_tp[j]['properties']['mean'],\n",
    "                            'Count':average_tp[j]['properties']['count']}, ignore_index=True)"
   ]
  },
  {
   "cell_type": "code",
   "execution_count": 180,
   "metadata": {},
   "outputs": [
    {
     "data": {
      "text/html": [
       "<div>\n",
       "<style scoped>\n",
       "    .dataframe tbody tr th:only-of-type {\n",
       "        vertical-align: middle;\n",
       "    }\n",
       "\n",
       "    .dataframe tbody tr th {\n",
       "        vertical-align: top;\n",
       "    }\n",
       "\n",
       "    .dataframe thead th {\n",
       "        text-align: right;\n",
       "    }\n",
       "</style>\n",
       "<table border=\"1\" class=\"dataframe\">\n",
       "  <thead>\n",
       "    <tr style=\"text-align: right;\">\n",
       "      <th></th>\n",
       "      <th>Census Code</th>\n",
       "      <th>State Code</th>\n",
       "      <th>District Code</th>\n",
       "      <th>State</th>\n",
       "      <th>District</th>\n",
       "      <th>Month</th>\n",
       "      <th>Year</th>\n",
       "      <th>Mean Rainfall</th>\n",
       "      <th>Count</th>\n",
       "    </tr>\n",
       "  </thead>\n",
       "  <tbody>\n",
       "    <tr>\n",
       "      <th>1108</th>\n",
       "      <td>408</td>\n",
       "      <td>22</td>\n",
       "      <td>9</td>\n",
       "      <td>Chhattisgarh</td>\n",
       "      <td>Rajnandgaon</td>\n",
       "      <td>2</td>\n",
       "      <td>2019</td>\n",
       "      <td>0.000285595</td>\n",
       "      <td>11</td>\n",
       "    </tr>\n",
       "    <tr>\n",
       "      <th>4207</th>\n",
       "      <td>281</td>\n",
       "      <td>15</td>\n",
       "      <td>1</td>\n",
       "      <td>Mizoram</td>\n",
       "      <td>Mamit</td>\n",
       "      <td>7</td>\n",
       "      <td>2019</td>\n",
       "      <td>0.00943304</td>\n",
       "      <td>3</td>\n",
       "    </tr>\n",
       "    <tr>\n",
       "      <th>4152</th>\n",
       "      <td>576</td>\n",
       "      <td>29</td>\n",
       "      <td>22</td>\n",
       "      <td>Karnataka</td>\n",
       "      <td>Kodagu</td>\n",
       "      <td>7</td>\n",
       "      <td>2019</td>\n",
       "      <td>0.0168207</td>\n",
       "      <td>4</td>\n",
       "    </tr>\n",
       "    <tr>\n",
       "      <th>1325</th>\n",
       "      <td>170</td>\n",
       "      <td>9</td>\n",
       "      <td>39</td>\n",
       "      <td>Uttar Pradesh</td>\n",
       "      <td>Banda</td>\n",
       "      <td>3</td>\n",
       "      <td>2019</td>\n",
       "      <td>0.000527011</td>\n",
       "      <td>8</td>\n",
       "    </tr>\n",
       "    <tr>\n",
       "      <th>2361</th>\n",
       "      <td>230</td>\n",
       "      <td>10</td>\n",
       "      <td>28</td>\n",
       "      <td>Bihar</td>\n",
       "      <td>Patna</td>\n",
       "      <td>4</td>\n",
       "      <td>2019</td>\n",
       "      <td>0.000993506</td>\n",
       "      <td>3</td>\n",
       "    </tr>\n",
       "  </tbody>\n",
       "</table>\n",
       "</div>"
      ],
      "text/plain": [
       "     Census Code State Code District Code          State     District Month  \\\n",
       "1108         408         22             9   Chhattisgarh  Rajnandgaon     2   \n",
       "4207         281         15             1        Mizoram        Mamit     7   \n",
       "4152         576         29            22      Karnataka       Kodagu     7   \n",
       "1325         170          9            39  Uttar Pradesh        Banda     3   \n",
       "2361         230         10            28          Bihar        Patna     4   \n",
       "\n",
       "      Year Mean Rainfall Count  \n",
       "1108  2019   0.000285595    11  \n",
       "4207  2019    0.00943304     3  \n",
       "4152  2019     0.0168207     4  \n",
       "1325  2019   0.000527011     8  \n",
       "2361  2019   0.000993506     3  "
      ]
     },
     "execution_count": 180,
     "metadata": {},
     "output_type": "execute_result"
    }
   ],
   "source": [
    "df.sample(5)"
   ]
  },
  {
   "cell_type": "code",
   "execution_count": 192,
   "metadata": {},
   "outputs": [],
   "source": [
    "df['Day'] = 1\n",
    "df['Date'] = pd.to_datetime(df[['Year','Month','Day']])"
   ]
  },
  {
   "cell_type": "code",
   "execution_count": 201,
   "metadata": {},
   "outputs": [
    {
     "data": {
      "text/html": [
       "<div>\n",
       "<style scoped>\n",
       "    .dataframe tbody tr th:only-of-type {\n",
       "        vertical-align: middle;\n",
       "    }\n",
       "\n",
       "    .dataframe tbody tr th {\n",
       "        vertical-align: top;\n",
       "    }\n",
       "\n",
       "    .dataframe thead th {\n",
       "        text-align: right;\n",
       "    }\n",
       "</style>\n",
       "<table border=\"1\" class=\"dataframe\">\n",
       "  <thead>\n",
       "    <tr style=\"text-align: right;\">\n",
       "      <th></th>\n",
       "      <th>Date</th>\n",
       "      <th>Census Code</th>\n",
       "      <th>State Code</th>\n",
       "      <th>District Code</th>\n",
       "      <th>State</th>\n",
       "      <th>District</th>\n",
       "      <th>Month</th>\n",
       "      <th>Year</th>\n",
       "      <th>Mean Rainfall</th>\n",
       "      <th>Count</th>\n",
       "      <th>Day</th>\n",
       "      <th>days_in_month</th>\n",
       "    </tr>\n",
       "  </thead>\n",
       "  <tbody>\n",
       "    <tr>\n",
       "      <th>2103</th>\n",
       "      <td>2019-04-01</td>\n",
       "      <td>159</td>\n",
       "      <td>9</td>\n",
       "      <td>28</td>\n",
       "      <td>Uttar Pradesh</td>\n",
       "      <td>Farrukhabad</td>\n",
       "      <td>4</td>\n",
       "      <td>2019</td>\n",
       "      <td>0.000355726</td>\n",
       "      <td>2</td>\n",
       "      <td>1</td>\n",
       "      <td>30</td>\n",
       "    </tr>\n",
       "    <tr>\n",
       "      <th>1660</th>\n",
       "      <td>2019-03-01</td>\n",
       "      <td>135</td>\n",
       "      <td>9</td>\n",
       "      <td>4</td>\n",
       "      <td>Uttar Pradesh</td>\n",
       "      <td>Moradabad</td>\n",
       "      <td>3</td>\n",
       "      <td>2019</td>\n",
       "      <td>0.000280651</td>\n",
       "      <td>6</td>\n",
       "      <td>1</td>\n",
       "      <td>31</td>\n",
       "    </tr>\n",
       "    <tr>\n",
       "      <th>2463</th>\n",
       "      <td>2019-04-01</td>\n",
       "      <td>76</td>\n",
       "      <td>6</td>\n",
       "      <td>8</td>\n",
       "      <td>Haryana</td>\n",
       "      <td>Sonipat</td>\n",
       "      <td>4</td>\n",
       "      <td>2019</td>\n",
       "      <td>0.000656373</td>\n",
       "      <td>3</td>\n",
       "      <td>1</td>\n",
       "      <td>30</td>\n",
       "    </tr>\n",
       "    <tr>\n",
       "      <th>920</th>\n",
       "      <td>2019-02-01</td>\n",
       "      <td>164</td>\n",
       "      <td>9</td>\n",
       "      <td>33</td>\n",
       "      <td>Uttar Pradesh</td>\n",
       "      <td>Kanpur Nagar</td>\n",
       "      <td>2</td>\n",
       "      <td>2019</td>\n",
       "      <td>0.00200885</td>\n",
       "      <td>4</td>\n",
       "      <td>1</td>\n",
       "      <td>28</td>\n",
       "    </tr>\n",
       "  </tbody>\n",
       "</table>\n",
       "</div>"
      ],
      "text/plain": [
       "           Date Census Code State Code District Code          State  \\\n",
       "2103 2019-04-01         159          9            28  Uttar Pradesh   \n",
       "1660 2019-03-01         135          9             4  Uttar Pradesh   \n",
       "2463 2019-04-01          76          6             8        Haryana   \n",
       "920  2019-02-01         164          9            33  Uttar Pradesh   \n",
       "\n",
       "          District Month  Year Mean Rainfall Count  Day  days_in_month  \n",
       "2103   Farrukhabad     4  2019   0.000355726     2    1             30  \n",
       "1660     Moradabad     3  2019   0.000280651     6    1             31  \n",
       "2463       Sonipat     4  2019   0.000656373     3    1             30  \n",
       "920   Kanpur Nagar     2  2019    0.00200885     4    1             28  "
      ]
     },
     "execution_count": 201,
     "metadata": {},
     "output_type": "execute_result"
    }
   ],
   "source": [
    "df['days_in_month'] = df['Date'].dt.daysinmonth\n",
    "df.sample(4)"
   ]
  },
  {
   "cell_type": "code",
   "execution_count": 221,
   "metadata": {},
   "outputs": [],
   "source": [
    "df['Mean Rainfall'] =  df['Mean Rainfall']*1000\n",
    "df['Total Rainfall'] = df['Mean Rainfall']*df['days_in_month']"
   ]
  },
  {
   "cell_type": "code",
   "execution_count": 222,
   "metadata": {},
   "outputs": [
    {
     "data": {
      "text/html": [
       "<div>\n",
       "<style scoped>\n",
       "    .dataframe tbody tr th:only-of-type {\n",
       "        vertical-align: middle;\n",
       "    }\n",
       "\n",
       "    .dataframe tbody tr th {\n",
       "        vertical-align: top;\n",
       "    }\n",
       "\n",
       "    .dataframe thead th {\n",
       "        text-align: right;\n",
       "    }\n",
       "</style>\n",
       "<table border=\"1\" class=\"dataframe\">\n",
       "  <thead>\n",
       "    <tr style=\"text-align: right;\">\n",
       "      <th></th>\n",
       "      <th>Date</th>\n",
       "      <th>Census Code</th>\n",
       "      <th>State Code</th>\n",
       "      <th>District Code</th>\n",
       "      <th>State</th>\n",
       "      <th>District</th>\n",
       "      <th>Month</th>\n",
       "      <th>Year</th>\n",
       "      <th>Mean Rainfall</th>\n",
       "      <th>Count</th>\n",
       "      <th>Day</th>\n",
       "      <th>days_in_month</th>\n",
       "      <th>Total Rainfall</th>\n",
       "      <th>geometry</th>\n",
       "    </tr>\n",
       "  </thead>\n",
       "  <tbody>\n",
       "    <tr>\n",
       "      <th>1792</th>\n",
       "      <td>2019-01-01</td>\n",
       "      <td>564</td>\n",
       "      <td>29</td>\n",
       "      <td>10</td>\n",
       "      <td>Karnataka</td>\n",
       "      <td>Haveri</td>\n",
       "      <td>1</td>\n",
       "      <td>2019</td>\n",
       "      <td>0.11219</td>\n",
       "      <td>5</td>\n",
       "      <td>1</td>\n",
       "      <td>31</td>\n",
       "      <td>3.4779</td>\n",
       "      <td>POLYGON ((75.41951 15.06168, 75.42000 15.06289...</td>\n",
       "    </tr>\n",
       "    <tr>\n",
       "      <th>2924</th>\n",
       "      <td>2019-05-01</td>\n",
       "      <td>573</td>\n",
       "      <td>29</td>\n",
       "      <td>19</td>\n",
       "      <td>Karnataka</td>\n",
       "      <td>Mandya</td>\n",
       "      <td>5</td>\n",
       "      <td>2019</td>\n",
       "      <td>5.40798</td>\n",
       "      <td>8</td>\n",
       "      <td>1</td>\n",
       "      <td>31</td>\n",
       "      <td>167.647</td>\n",
       "      <td>MULTIPOLYGON (((76.68466 13.04283, 76.69453 13...</td>\n",
       "    </tr>\n",
       "    <tr>\n",
       "      <th>3393</th>\n",
       "      <td>2019-02-01</td>\n",
       "      <td>118</td>\n",
       "      <td>8</td>\n",
       "      <td>20</td>\n",
       "      <td>Rajasthan</td>\n",
       "      <td>Pali</td>\n",
       "      <td>2</td>\n",
       "      <td>2019</td>\n",
       "      <td>0.0569557</td>\n",
       "      <td>17</td>\n",
       "      <td>1</td>\n",
       "      <td>28</td>\n",
       "      <td>1.59476</td>\n",
       "      <td>POLYGON ((74.29076 26.44896, 74.28900 26.44316...</td>\n",
       "    </tr>\n",
       "    <tr>\n",
       "      <th>3931</th>\n",
       "      <td>2019-04-01</td>\n",
       "      <td>352</td>\n",
       "      <td>20</td>\n",
       "      <td>7</td>\n",
       "      <td>Jharkhand</td>\n",
       "      <td>Sahibganj</td>\n",
       "      <td>4</td>\n",
       "      <td>2019</td>\n",
       "      <td>3.20469</td>\n",
       "      <td>4</td>\n",
       "      <td>1</td>\n",
       "      <td>30</td>\n",
       "      <td>96.1406</td>\n",
       "      <td>POLYGON ((87.71357 25.25694, 87.72683 25.25397...</td>\n",
       "    </tr>\n",
       "  </tbody>\n",
       "</table>\n",
       "</div>"
      ],
      "text/plain": [
       "           Date Census Code State Code District Code      State   District  \\\n",
       "1792 2019-01-01         564         29            10  Karnataka     Haveri   \n",
       "2924 2019-05-01         573         29            19  Karnataka     Mandya   \n",
       "3393 2019-02-01         118          8            20  Rajasthan       Pali   \n",
       "3931 2019-04-01         352         20             7  Jharkhand  Sahibganj   \n",
       "\n",
       "     Month  Year Mean Rainfall Count  Day  days_in_month Total Rainfall  \\\n",
       "1792     1  2019       0.11219     5    1             31         3.4779   \n",
       "2924     5  2019       5.40798     8    1             31        167.647   \n",
       "3393     2  2019     0.0569557    17    1             28        1.59476   \n",
       "3931     4  2019       3.20469     4    1             30        96.1406   \n",
       "\n",
       "                                               geometry  \n",
       "1792  POLYGON ((75.41951 15.06168, 75.42000 15.06289...  \n",
       "2924  MULTIPOLYGON (((76.68466 13.04283, 76.69453 13...  \n",
       "3393  POLYGON ((74.29076 26.44896, 74.28900 26.44316...  \n",
       "3931  POLYGON ((87.71357 25.25694, 87.72683 25.25397...  "
      ]
     },
     "execution_count": 222,
     "metadata": {},
     "output_type": "execute_result"
    }
   ],
   "source": [
    "df_geom = pd.merge(df,districts[['censuscode','geometry']],left_on = 'Census Code', right_on='censuscode').drop('censuscode',axis=1)\n",
    "df_geom.sample(4)"
   ]
  },
  {
   "cell_type": "code",
   "execution_count": 223,
   "metadata": {},
   "outputs": [
    {
     "data": {
      "text/html": [
       "<div>\n",
       "<style scoped>\n",
       "    .dataframe tbody tr th:only-of-type {\n",
       "        vertical-align: middle;\n",
       "    }\n",
       "\n",
       "    .dataframe tbody tr th {\n",
       "        vertical-align: top;\n",
       "    }\n",
       "\n",
       "    .dataframe thead th {\n",
       "        text-align: right;\n",
       "    }\n",
       "</style>\n",
       "<table border=\"1\" class=\"dataframe\">\n",
       "  <thead>\n",
       "    <tr style=\"text-align: right;\">\n",
       "      <th></th>\n",
       "      <th>Census Code</th>\n",
       "      <th>State Code</th>\n",
       "      <th>District Code</th>\n",
       "      <th>State</th>\n",
       "      <th>District</th>\n",
       "      <th>Month</th>\n",
       "      <th>Year</th>\n",
       "      <th>Mean Rainfall</th>\n",
       "      <th>Count</th>\n",
       "      <th>Day</th>\n",
       "      <th>days_in_month</th>\n",
       "      <th>Total Rainfall</th>\n",
       "      <th>geometry</th>\n",
       "    </tr>\n",
       "    <tr>\n",
       "      <th>Date</th>\n",
       "      <th></th>\n",
       "      <th></th>\n",
       "      <th></th>\n",
       "      <th></th>\n",
       "      <th></th>\n",
       "      <th></th>\n",
       "      <th></th>\n",
       "      <th></th>\n",
       "      <th></th>\n",
       "      <th></th>\n",
       "      <th></th>\n",
       "      <th></th>\n",
       "      <th></th>\n",
       "    </tr>\n",
       "  </thead>\n",
       "  <tbody>\n",
       "    <tr>\n",
       "      <th>2019-01-01</th>\n",
       "      <td>532</td>\n",
       "      <td>28</td>\n",
       "      <td>1</td>\n",
       "      <td>Andhra Pradesh</td>\n",
       "      <td>Adilabad</td>\n",
       "      <td>1</td>\n",
       "      <td>2019</td>\n",
       "      <td>1.31446</td>\n",
       "      <td>23</td>\n",
       "      <td>1</td>\n",
       "      <td>31</td>\n",
       "      <td>40.7481</td>\n",
       "      <td>POLYGON ((78.84972 19.76010, 78.85102 19.75945...</td>\n",
       "    </tr>\n",
       "    <tr>\n",
       "      <th>2019-02-01</th>\n",
       "      <td>532</td>\n",
       "      <td>28</td>\n",
       "      <td>1</td>\n",
       "      <td>Andhra Pradesh</td>\n",
       "      <td>Adilabad</td>\n",
       "      <td>2</td>\n",
       "      <td>2019</td>\n",
       "      <td>0.153885</td>\n",
       "      <td>23</td>\n",
       "      <td>1</td>\n",
       "      <td>28</td>\n",
       "      <td>4.30879</td>\n",
       "      <td>POLYGON ((78.84972 19.76010, 78.85102 19.75945...</td>\n",
       "    </tr>\n",
       "    <tr>\n",
       "      <th>2019-03-01</th>\n",
       "      <td>532</td>\n",
       "      <td>28</td>\n",
       "      <td>1</td>\n",
       "      <td>Andhra Pradesh</td>\n",
       "      <td>Adilabad</td>\n",
       "      <td>3</td>\n",
       "      <td>2019</td>\n",
       "      <td>0.297475</td>\n",
       "      <td>23</td>\n",
       "      <td>1</td>\n",
       "      <td>31</td>\n",
       "      <td>9.22173</td>\n",
       "      <td>POLYGON ((78.84972 19.76010, 78.85102 19.75945...</td>\n",
       "    </tr>\n",
       "  </tbody>\n",
       "</table>\n",
       "</div>"
      ],
      "text/plain": [
       "           Census Code State Code District Code           State  District  \\\n",
       "Date                                                                        \n",
       "2019-01-01         532         28             1  Andhra Pradesh  Adilabad   \n",
       "2019-02-01         532         28             1  Andhra Pradesh  Adilabad   \n",
       "2019-03-01         532         28             1  Andhra Pradesh  Adilabad   \n",
       "\n",
       "           Month  Year Mean Rainfall Count  Day  days_in_month Total Rainfall  \\\n",
       "Date                                                                            \n",
       "2019-01-01     1  2019       1.31446    23    1             31        40.7481   \n",
       "2019-02-01     2  2019      0.153885    23    1             28        4.30879   \n",
       "2019-03-01     3  2019      0.297475    23    1             31        9.22173   \n",
       "\n",
       "                                                     geometry  \n",
       "Date                                                           \n",
       "2019-01-01  POLYGON ((78.84972 19.76010, 78.85102 19.75945...  \n",
       "2019-02-01  POLYGON ((78.84972 19.76010, 78.85102 19.75945...  \n",
       "2019-03-01  POLYGON ((78.84972 19.76010, 78.85102 19.75945...  "
      ]
     },
     "execution_count": 223,
     "metadata": {},
     "output_type": "execute_result"
    }
   ],
   "source": [
    "df_geom = df_geom.set_index('Date')\n",
    "df_geom.head(3)#.plot(column=)"
   ]
  },
  {
   "cell_type": "code",
   "execution_count": 231,
   "metadata": {},
   "outputs": [],
   "source": [
    "gdf = gpd.GeoDataFrame(df_geom)\n",
    "convert_dict = {'Mean Rainfall': float, \n",
    "                'Total Rainfall': float\n",
    "               } \n",
    "  \n",
    "gdf = gdf.astype(convert_dict) "
   ]
  },
  {
   "cell_type": "code",
   "execution_count": 238,
   "metadata": {},
   "outputs": [],
   "source": [
    "class MidpointNormalize(colors.Normalize):\n",
    "    def __init__(self, vmin=None, vmax=None, vcenter=None, clip=False):\n",
    "        self.vcenter = vcenter\n",
    "        colors.Normalize.__init__(self, vmin, vmax, clip)\n",
    "\n",
    "    def __call__(self, value, clip=None):\n",
    "        # I'm ignoring masked values and all kinds of edge cases to make a\n",
    "        # simple example...\n",
    "        x, y = [self.vmin, self.vcenter, self.vmax], [0, 0.5, 1]\n",
    "        return np.ma.masked_array(np.interp(value, x, y))"
   ]
  },
  {
   "cell_type": "code",
   "execution_count": 241,
   "metadata": {},
   "outputs": [],
   "source": [
    "midnorm = MidpointNormalize(vmin=0, vcenter=100, vmax=700)"
   ]
  },
  {
   "cell_type": "code",
   "execution_count": 250,
   "metadata": {},
   "outputs": [
    {
     "name": "stdout",
     "output_type": "stream",
     "text": [
      "January\n",
      "February\n",
      "March\n",
      "April\n",
      "May\n",
      "June\n",
      "July\n",
      "August\n"
     ]
    }
   ],
   "source": [
    "months=['January','February','March','April','May','June','July','August']\n",
    "for i in range(len(months)):\n",
    "    print(months[i])\n",
    "    date = '2019-0'+str(i+1)\n",
    "    gdf[date].plot(column='Total Rainfall', cmap='RdBu', figsize=(10,10),legend=True, norm=midnorm,clim=(0,700))\n",
    "    title = 'Rainfall in (mm): '+months[i]\n",
    "    plt.title(title,fontsize=20)\n",
    "    plt.savefig(date+'.png', bbox_inches='tight')\n",
    "    plt.close('all')"
   ]
  },
  {
   "cell_type": "code",
   "execution_count": null,
   "metadata": {},
   "outputs": [],
   "source": []
  }
 ],
 "metadata": {
  "kernelspec": {
   "display_name": "Python 3 (ipykernel)",
   "language": "python",
   "name": "python3"
  },
  "language_info": {
   "codemirror_mode": {
    "name": "ipython",
    "version": 3
   },
   "file_extension": ".py",
   "mimetype": "text/x-python",
   "name": "python",
   "nbconvert_exporter": "python",
   "pygments_lexer": "ipython3",
   "version": "3.9.7"
  }
 },
 "nbformat": 4,
 "nbformat_minor": 2
}
