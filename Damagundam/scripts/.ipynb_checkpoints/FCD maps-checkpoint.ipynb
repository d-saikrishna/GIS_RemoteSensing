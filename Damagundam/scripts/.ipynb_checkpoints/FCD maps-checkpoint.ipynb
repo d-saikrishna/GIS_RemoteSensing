{
 "cells": [
  {
   "cell_type": "code",
   "execution_count": 1,
   "id": "26514f51-2e50-4259-b197-e8b8866c0cd2",
   "metadata": {},
   "outputs": [],
   "source": [
    "import ee\n",
    "import geemap"
   ]
  },
  {
   "cell_type": "code",
   "execution_count": null,
   "id": "51082300-20c8-4806-b0d7-e4c4613da0af",
   "metadata": {},
   "outputs": [],
   "source": [
    "\n",
    "service_account = 'ueinfo@ueinfo.iam.gserviceaccount.com '\n",
    "credentials = ee.ServiceAccountCredentials(service_account, 'ueinfo-615e315d9158.json')"
   ]
  }
 ],
 "metadata": {
  "kernelspec": {
   "display_name": "Python 3 (ipykernel)",
   "language": "python",
   "name": "python3"
  },
  "language_info": {
   "codemirror_mode": {
    "name": "ipython",
    "version": 3
   },
   "file_extension": ".py",
   "mimetype": "text/x-python",
   "name": "python",
   "nbconvert_exporter": "python",
   "pygments_lexer": "ipython3",
   "version": "3.11.7"
  }
 },
 "nbformat": 4,
 "nbformat_minor": 5
}
